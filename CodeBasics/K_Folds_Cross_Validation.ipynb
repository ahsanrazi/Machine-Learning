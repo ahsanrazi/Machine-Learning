{
 "cells": [
  {
   "cell_type": "markdown",
   "metadata": {},
   "source": [
    "# K Folds Cross Validation"
   ]
  },
  {
   "cell_type": "code",
   "execution_count": null,
   "metadata": {},
   "outputs": [],
   "source": [
    "# Sometimes we get into delima which Machine Learning model should I use to solve my problem.\n",
    "\n",
    "# For Example: We are working on the iris flower dataset problem and we can classify those flowers using SVM,\n",
    "# Random Forest, Logistic regression and Decision Tree. Which model out of these is the best.\n",
    "\n",
    "# Cross Validation is the technique which allows us to answer tha question Basically allows us to evaluate\n",
    "# the model performance."
   ]
  },
  {
   "cell_type": "code",
   "execution_count": null,
   "metadata": {},
   "outputs": [],
   "source": [
    "# Ways of training the Model:\n",
    "# Option 1: Use all available data for training and test (Using 100% of all our data to train the model\n",
    "# and use the same exact data to test the model)\n",
    "\n",
    "# Option 2: Split available dataset into trainingg and test sets.\n",
    "\n",
    "# Option 3: K Folds Cross Validation (In this technique we divide our 100 samples into folds eg 5 folds each\n",
    "# contain 20 samples and then we run multiple iterations. In first iteration we use folds 2 to 5 for training and\n",
    "# fold 1 for testing and calculate the score, In second iteration we use 2 fold for test and rest of them as training,\n",
    "# we repeat the same precess untill the last fold is used for testing at the last we average the score of all iterations)\n",
    "# This technique is very useful we use variety of samples for testing."
   ]
  }
 ],
 "metadata": {
  "kernelspec": {
   "display_name": "base",
   "language": "python",
   "name": "python3"
  },
  "language_info": {
   "codemirror_mode": {
    "name": "ipython",
    "version": 3
   },
   "file_extension": ".py",
   "mimetype": "text/x-python",
   "name": "python",
   "nbconvert_exporter": "python",
   "pygments_lexer": "ipython3",
   "version": "3.12.4"
  }
 },
 "nbformat": 4,
 "nbformat_minor": 2
}
